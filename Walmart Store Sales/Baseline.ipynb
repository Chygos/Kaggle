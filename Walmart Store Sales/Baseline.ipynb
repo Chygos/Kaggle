{
 "cells": [
  {
   "cell_type": "markdown",
   "metadata": {},
   "source": [
    "<!DOCTYPE html>\n",
    "<html>\n",
    "    <body>\n",
    "        <h3>Descriptions of files:</h3>\n",
    "        <ol>\n",
    "            <li>Stores.csv: Contains the anonyised information aout the 45 stores, indicating the type and size of store</li>\n",
    "            <li>Train.csv: This is the historical training sata which covers to 2010-02-05 TO 2012-11-01. Within this file you will find the following fields:</li>\n",
    "            <ul>\n",
    "                <li>Store- The store number</li>\n",
    "                <li>Dept - THE Department Number</li>\n",
    "                <li>Date - The week</li>\n",
    "                <li>Weekly Sales - Sales for the given department in the given store</li>\n",
    "                <li>IsHoliday - Whether the week is a special holiday week</li>\n",
    "            </ul>\n",
    "            <li>Test.csv - This is identical to the train.csv except the weekly sales have been witheld</li>\n",
    "            <li>features.csv- The file contains additional data related to the store, department, and regional activity for the given dates. It contains the following fields</li>\n",
    "                <ul>\n",
    "                    <li>Store- The store number</li>\n",
    "                    <li>Date - The week</li>\n",
    "                    <li>Temperature - Average temperature in the region</li>\n",
    "                    <li>Fuel_Price - Cost of fuel in the region</li>\n",
    "                    <li>Markdown1-5 - Anonymised data related to promotional markdowns that Walmart is running. Markdown data is only available after Nov 2011, and is not available for all stores all the time. Any missing value is marked with an NA</li>\n",
    "                    <li>CPI - the consumer price index</li>\n",
    "                    <li>Unemployment - The unemployment rate</li>\n",
    "                    <li>IsHoliday - Whether the week is a special holiday week</li>\n",
    "                </ul>\n",
    "        </ol>\n",
    "<p>For convenience, the four holidays fall within the following weeks in the dataset (not all holidays are in the data):</p>\n",
    "<ul>\n",
    "    <li>SuperBowl: 12-02-2010, 11-02-2011, 10-02-2012, 8-02-2013</li>\n",
    "    <li>Labour Day: 10-09-2010, 9-09-2011, 7-09-2012, 6-09-2013,</li>\n",
    "    <li>Thanksgiving: 26-11-2010, 25-11-2011, 23-11-2012, 20-11-2013</li>\n",
    "    <li>Christmas: 31-12-2010, 30-12-2011, 28-12-2012, 27-12-2013</li>\n",
    "</ul>\n",
    "\n",
    "<hr>\n",
    "<p>\n",
    "<b>Evaluation Metric:</b> Weighted Mean Absolute Error (WMAE)\n",
    "    <b><pre style = 'text-align:center'>1/sum(wi) * sum(wi|yi - ^y|)</pre></b>\n",
    "where wi are weights, w=5 if the week is a holiday week, 1 otherwise.\n",
    "</p>\n",
    "</body>\n",
    "</html>"
   ]
  },
  {
   "cell_type": "code",
   "execution_count": 1,
   "metadata": {},
   "outputs": [],
   "source": [
    "path = \"C:/Machine_learning_datafiles/kaggle/Walmart_recruiting_store_sales\""
   ]
  },
  {
   "cell_type": "code",
   "execution_count": 2,
   "metadata": {},
   "outputs": [],
   "source": [
    "import os, gc, warnings\n",
    "warnings.filterwarnings('ignore')"
   ]
  },
  {
   "cell_type": "code",
   "execution_count": 3,
   "metadata": {},
   "outputs": [],
   "source": [
    "import pandas as pd\n",
    "import numpy as np\n",
    "import matplotlib.pyplot as plt\n",
    "import seaborn as sns\n",
    "import scipy.stats as scipy_stats\n",
    "import missingno as msno"
   ]
  },
  {
   "cell_type": "code",
   "execution_count": 116,
   "metadata": {},
   "outputs": [],
   "source": [
    "from sklearn.metrics import mean_squared_error, mean_absolute_error\n",
    "from sklearn.model_selection import train_test_split, KFold,TimeSeriesSplit\n",
    "from sklearn.linear_model import Ridge\n",
    "from sklearn.ensemble import RandomForestRegressor\n",
    "import catboost as cat\n",
    "import lightgbm as lgb\n",
    "import category_encoders as cat_encoders\n",
    "from sklearn.preprocessing import StandardScaler\n",
    "from sklearn.compose import ColumnTransformer\n",
    "from sklearn.pipeline import Pipeline"
   ]
  },
  {
   "cell_type": "code",
   "execution_count": 5,
   "metadata": {},
   "outputs": [],
   "source": [
    "os.chdir(path)"
   ]
  },
  {
   "cell_type": "code",
   "execution_count": 6,
   "metadata": {},
   "outputs": [
    {
     "data": {
      "text/plain": [
       "['catboost_info',\n",
       " 'features.csv',\n",
       " 'predictions',\n",
       " 'Readme.txt',\n",
       " 'sampleSubmission.csv',\n",
       " 'stores.csv',\n",
       " 'test.csv',\n",
       " 'Test_cleaned.pkl',\n",
       " 'train.csv',\n",
       " 'Train_cleaned.pkl']"
      ]
     },
     "execution_count": 6,
     "metadata": {},
     "output_type": "execute_result"
    }
   ],
   "source": [
    "os.listdir()"
   ]
  },
  {
   "cell_type": "code",
   "execution_count": 7,
   "metadata": {},
   "outputs": [],
   "source": [
    "train = pd.read_pickle('Train_cleaned.pkl', compression='zip')\n",
    "test = pd.read_pickle('Test_cleaned.pkl', compression='zip')\n",
    "subfile = pd.read_csv('sampleSubmission.csv')"
   ]
  },
  {
   "cell_type": "code",
   "execution_count": 89,
   "metadata": {},
   "outputs": [],
   "source": [
    "pd.set_option(\"display.max_columns\", 100)\n",
    "plt.style.use('classic')\n",
    "%matplotlib inline"
   ]
  },
  {
   "cell_type": "code",
   "execution_count": 10,
   "metadata": {},
   "outputs": [],
   "source": [
    "seed = 42\n",
    "np.random.seed(seed)"
   ]
  },
  {
   "cell_type": "code",
   "execution_count": 11,
   "metadata": {},
   "outputs": [
    {
     "data": {
      "text/html": [
       "<div>\n",
       "<style scoped>\n",
       "    .dataframe tbody tr th:only-of-type {\n",
       "        vertical-align: middle;\n",
       "    }\n",
       "\n",
       "    .dataframe tbody tr th {\n",
       "        vertical-align: top;\n",
       "    }\n",
       "\n",
       "    .dataframe thead th {\n",
       "        text-align: right;\n",
       "    }\n",
       "</style>\n",
       "<table border=\"1\" class=\"dataframe\">\n",
       "  <thead>\n",
       "    <tr style=\"text-align: right;\">\n",
       "      <th></th>\n",
       "      <th>Store</th>\n",
       "      <th>Dept</th>\n",
       "      <th>Date</th>\n",
       "      <th>Weekly_Sales</th>\n",
       "      <th>IsHoliday</th>\n",
       "      <th>Type</th>\n",
       "      <th>Size</th>\n",
       "      <th>Temperature</th>\n",
       "      <th>Fuel_Price</th>\n",
       "      <th>MarkDown1</th>\n",
       "      <th>MarkDown2</th>\n",
       "      <th>MarkDown3</th>\n",
       "      <th>MarkDown4</th>\n",
       "      <th>MarkDown5</th>\n",
       "      <th>CPI</th>\n",
       "      <th>Unemployment</th>\n",
       "      <th>week</th>\n",
       "      <th>month</th>\n",
       "      <th>year</th>\n",
       "      <th>Season</th>\n",
       "    </tr>\n",
       "  </thead>\n",
       "  <tbody>\n",
       "    <tr>\n",
       "      <th>0</th>\n",
       "      <td>1</td>\n",
       "      <td>1</td>\n",
       "      <td>2010-02-05</td>\n",
       "      <td>24924.50</td>\n",
       "      <td>0</td>\n",
       "      <td>3</td>\n",
       "      <td>151315</td>\n",
       "      <td>42.31</td>\n",
       "      <td>2.572</td>\n",
       "      <td>0.0</td>\n",
       "      <td>0.0</td>\n",
       "      <td>0.0</td>\n",
       "      <td>0.0</td>\n",
       "      <td>0.0</td>\n",
       "      <td>211.096358</td>\n",
       "      <td>8.106</td>\n",
       "      <td>5</td>\n",
       "      <td>2</td>\n",
       "      <td>2010</td>\n",
       "      <td>3</td>\n",
       "    </tr>\n",
       "    <tr>\n",
       "      <th>1</th>\n",
       "      <td>1</td>\n",
       "      <td>1</td>\n",
       "      <td>2010-02-12</td>\n",
       "      <td>46039.49</td>\n",
       "      <td>1</td>\n",
       "      <td>3</td>\n",
       "      <td>151315</td>\n",
       "      <td>38.51</td>\n",
       "      <td>2.548</td>\n",
       "      <td>0.0</td>\n",
       "      <td>0.0</td>\n",
       "      <td>0.0</td>\n",
       "      <td>0.0</td>\n",
       "      <td>0.0</td>\n",
       "      <td>211.242170</td>\n",
       "      <td>8.106</td>\n",
       "      <td>6</td>\n",
       "      <td>2</td>\n",
       "      <td>2010</td>\n",
       "      <td>3</td>\n",
       "    </tr>\n",
       "    <tr>\n",
       "      <th>2</th>\n",
       "      <td>1</td>\n",
       "      <td>1</td>\n",
       "      <td>2010-02-19</td>\n",
       "      <td>41595.55</td>\n",
       "      <td>0</td>\n",
       "      <td>3</td>\n",
       "      <td>151315</td>\n",
       "      <td>39.93</td>\n",
       "      <td>2.514</td>\n",
       "      <td>0.0</td>\n",
       "      <td>0.0</td>\n",
       "      <td>0.0</td>\n",
       "      <td>0.0</td>\n",
       "      <td>0.0</td>\n",
       "      <td>211.289143</td>\n",
       "      <td>8.106</td>\n",
       "      <td>7</td>\n",
       "      <td>2</td>\n",
       "      <td>2010</td>\n",
       "      <td>3</td>\n",
       "    </tr>\n",
       "    <tr>\n",
       "      <th>3</th>\n",
       "      <td>1</td>\n",
       "      <td>1</td>\n",
       "      <td>2010-02-26</td>\n",
       "      <td>19403.54</td>\n",
       "      <td>0</td>\n",
       "      <td>3</td>\n",
       "      <td>151315</td>\n",
       "      <td>46.63</td>\n",
       "      <td>2.561</td>\n",
       "      <td>0.0</td>\n",
       "      <td>0.0</td>\n",
       "      <td>0.0</td>\n",
       "      <td>0.0</td>\n",
       "      <td>0.0</td>\n",
       "      <td>211.319643</td>\n",
       "      <td>8.106</td>\n",
       "      <td>8</td>\n",
       "      <td>2</td>\n",
       "      <td>2010</td>\n",
       "      <td>3</td>\n",
       "    </tr>\n",
       "    <tr>\n",
       "      <th>4</th>\n",
       "      <td>1</td>\n",
       "      <td>1</td>\n",
       "      <td>2010-03-05</td>\n",
       "      <td>21827.90</td>\n",
       "      <td>0</td>\n",
       "      <td>3</td>\n",
       "      <td>151315</td>\n",
       "      <td>46.50</td>\n",
       "      <td>2.625</td>\n",
       "      <td>0.0</td>\n",
       "      <td>0.0</td>\n",
       "      <td>0.0</td>\n",
       "      <td>0.0</td>\n",
       "      <td>0.0</td>\n",
       "      <td>211.350143</td>\n",
       "      <td>8.106</td>\n",
       "      <td>9</td>\n",
       "      <td>3</td>\n",
       "      <td>2010</td>\n",
       "      <td>1</td>\n",
       "    </tr>\n",
       "  </tbody>\n",
       "</table>\n",
       "</div>"
      ],
      "text/plain": [
       "   Store  Dept       Date  Weekly_Sales  IsHoliday  Type    Size  Temperature  \\\n",
       "0      1     1 2010-02-05      24924.50          0     3  151315        42.31   \n",
       "1      1     1 2010-02-12      46039.49          1     3  151315        38.51   \n",
       "2      1     1 2010-02-19      41595.55          0     3  151315        39.93   \n",
       "3      1     1 2010-02-26      19403.54          0     3  151315        46.63   \n",
       "4      1     1 2010-03-05      21827.90          0     3  151315        46.50   \n",
       "\n",
       "   Fuel_Price  MarkDown1  MarkDown2  MarkDown3  MarkDown4  MarkDown5  \\\n",
       "0       2.572        0.0        0.0        0.0        0.0        0.0   \n",
       "1       2.548        0.0        0.0        0.0        0.0        0.0   \n",
       "2       2.514        0.0        0.0        0.0        0.0        0.0   \n",
       "3       2.561        0.0        0.0        0.0        0.0        0.0   \n",
       "4       2.625        0.0        0.0        0.0        0.0        0.0   \n",
       "\n",
       "          CPI  Unemployment  week  month  year  Season  \n",
       "0  211.096358         8.106     5      2  2010       3  \n",
       "1  211.242170         8.106     6      2  2010       3  \n",
       "2  211.289143         8.106     7      2  2010       3  \n",
       "3  211.319643         8.106     8      2  2010       3  \n",
       "4  211.350143         8.106     9      3  2010       1  "
      ]
     },
     "execution_count": 11,
     "metadata": {},
     "output_type": "execute_result"
    }
   ],
   "source": [
    "train.head()"
   ]
  },
  {
   "cell_type": "code",
   "execution_count": 12,
   "metadata": {},
   "outputs": [
    {
     "data": {
      "text/html": [
       "<div>\n",
       "<style scoped>\n",
       "    .dataframe tbody tr th:only-of-type {\n",
       "        vertical-align: middle;\n",
       "    }\n",
       "\n",
       "    .dataframe tbody tr th {\n",
       "        vertical-align: top;\n",
       "    }\n",
       "\n",
       "    .dataframe thead th {\n",
       "        text-align: right;\n",
       "    }\n",
       "</style>\n",
       "<table border=\"1\" class=\"dataframe\">\n",
       "  <thead>\n",
       "    <tr style=\"text-align: right;\">\n",
       "      <th></th>\n",
       "      <th>Store</th>\n",
       "      <th>Dept</th>\n",
       "      <th>Date</th>\n",
       "      <th>IsHoliday</th>\n",
       "      <th>Type</th>\n",
       "      <th>Size</th>\n",
       "      <th>Temperature</th>\n",
       "      <th>Fuel_Price</th>\n",
       "      <th>MarkDown1</th>\n",
       "      <th>MarkDown2</th>\n",
       "      <th>MarkDown3</th>\n",
       "      <th>MarkDown4</th>\n",
       "      <th>MarkDown5</th>\n",
       "      <th>CPI</th>\n",
       "      <th>Unemployment</th>\n",
       "      <th>week</th>\n",
       "      <th>month</th>\n",
       "      <th>year</th>\n",
       "      <th>Season</th>\n",
       "    </tr>\n",
       "  </thead>\n",
       "  <tbody>\n",
       "    <tr>\n",
       "      <th>0</th>\n",
       "      <td>1</td>\n",
       "      <td>1</td>\n",
       "      <td>2012-11-02</td>\n",
       "      <td>0</td>\n",
       "      <td>3</td>\n",
       "      <td>151315</td>\n",
       "      <td>55.32</td>\n",
       "      <td>3.386</td>\n",
       "      <td>6766.44</td>\n",
       "      <td>5147.70</td>\n",
       "      <td>50.82</td>\n",
       "      <td>3639.90</td>\n",
       "      <td>2737.42</td>\n",
       "      <td>223.462779</td>\n",
       "      <td>6.573</td>\n",
       "      <td>44</td>\n",
       "      <td>11</td>\n",
       "      <td>2012</td>\n",
       "      <td>0</td>\n",
       "    </tr>\n",
       "    <tr>\n",
       "      <th>1</th>\n",
       "      <td>1</td>\n",
       "      <td>1</td>\n",
       "      <td>2012-11-09</td>\n",
       "      <td>0</td>\n",
       "      <td>3</td>\n",
       "      <td>151315</td>\n",
       "      <td>61.24</td>\n",
       "      <td>3.314</td>\n",
       "      <td>11421.32</td>\n",
       "      <td>3370.89</td>\n",
       "      <td>40.28</td>\n",
       "      <td>4646.79</td>\n",
       "      <td>6154.16</td>\n",
       "      <td>223.481307</td>\n",
       "      <td>6.573</td>\n",
       "      <td>45</td>\n",
       "      <td>11</td>\n",
       "      <td>2012</td>\n",
       "      <td>0</td>\n",
       "    </tr>\n",
       "    <tr>\n",
       "      <th>2</th>\n",
       "      <td>1</td>\n",
       "      <td>1</td>\n",
       "      <td>2012-11-16</td>\n",
       "      <td>0</td>\n",
       "      <td>3</td>\n",
       "      <td>151315</td>\n",
       "      <td>52.92</td>\n",
       "      <td>3.252</td>\n",
       "      <td>9696.28</td>\n",
       "      <td>292.10</td>\n",
       "      <td>103.78</td>\n",
       "      <td>1133.15</td>\n",
       "      <td>6612.69</td>\n",
       "      <td>223.512911</td>\n",
       "      <td>6.573</td>\n",
       "      <td>46</td>\n",
       "      <td>11</td>\n",
       "      <td>2012</td>\n",
       "      <td>0</td>\n",
       "    </tr>\n",
       "  </tbody>\n",
       "</table>\n",
       "</div>"
      ],
      "text/plain": [
       "   Store  Dept       Date  IsHoliday  Type    Size  Temperature  Fuel_Price  \\\n",
       "0      1     1 2012-11-02          0     3  151315        55.32       3.386   \n",
       "1      1     1 2012-11-09          0     3  151315        61.24       3.314   \n",
       "2      1     1 2012-11-16          0     3  151315        52.92       3.252   \n",
       "\n",
       "   MarkDown1  MarkDown2  MarkDown3  MarkDown4  MarkDown5         CPI  \\\n",
       "0    6766.44    5147.70      50.82    3639.90    2737.42  223.462779   \n",
       "1   11421.32    3370.89      40.28    4646.79    6154.16  223.481307   \n",
       "2    9696.28     292.10     103.78    1133.15    6612.69  223.512911   \n",
       "\n",
       "   Unemployment  week  month  year  Season  \n",
       "0         6.573    44     11  2012       0  \n",
       "1         6.573    45     11  2012       0  \n",
       "2         6.573    46     11  2012       0  "
      ]
     },
     "execution_count": 12,
     "metadata": {},
     "output_type": "execute_result"
    }
   ],
   "source": [
    "test.head(3)"
   ]
  },
  {
   "cell_type": "code",
   "execution_count": 73,
   "metadata": {},
   "outputs": [
    {
     "data": {
      "text/plain": [
       "0         24924.50\n",
       "1         46039.49\n",
       "2         41595.55\n",
       "3         19403.54\n",
       "4         21827.90\n",
       "            ...   \n",
       "421565      508.37\n",
       "421566      628.10\n",
       "421567     1061.02\n",
       "421568      760.01\n",
       "421569     1076.80\n",
       "Name: Weekly_Sales, Length: 421570, dtype: float64"
      ]
     },
     "execution_count": 73,
     "metadata": {},
     "output_type": "execute_result"
    }
   ],
   "source": [
    "train.Weekly_Sales"
   ]
  },
  {
   "cell_type": "code",
   "execution_count": 88,
   "metadata": {},
   "outputs": [
    {
     "data": {
      "text/plain": [
       "28.853524767162636"
      ]
     },
     "execution_count": 88,
     "metadata": {},
     "output_type": "execute_result"
    }
   ],
   "source": [
    "(train.Weekly_Sales**(1/4)).max()"
   ]
  },
  {
   "cell_type": "code",
   "execution_count": 90,
   "metadata": {},
   "outputs": [
    {
     "data": {
      "image/png": "[encoded data removed]",
      "text/plain": [
       "<Figure size 864x252 with 2 Axes>"
      ]
     },
     "metadata": {
      "needs_background": "light"
     },
     "output_type": "display_data"
    }
   ],
   "source": [
    "plt.figure(figsize=(12,3.5))\n",
    "plt.subplot(121)\n",
    "sns.distplot(train.Weekly_Sales)\n",
    "plt.title('Original Target Distribution')\n",
    "plt.subplot(122)\n",
    "sns.distplot((train.Weekly_Sales**(1/4)))\n",
    "plt.title('4th-root of Target Distribution')\n",
    "plt.subplots_adjust(wspace=0.8);"
   ]
  },
  {
   "cell_type": "markdown",
   "metadata": {},
   "source": [
    "`For categorical features with cardinality more than 10 unique values We will use target encoding, and one-hot encoding, if otherwise.`"
   ]
  },
  {
   "cell_type": "markdown",
   "metadata": {},
   "source": [
    "`Because this is a time series data, we will randomly split the data, so we will split at a date before a certain date and predict on date after it.`"
   ]
  },
  {
   "cell_type": "code",
   "execution_count": 100,
   "metadata": {},
   "outputs": [],
   "source": [
    "def linearData(data, cat_cols:list, target_cols:list):\n",
    "    if (not isinstance(cat_cols, (list, tuple,str)) or not isinstance(target_cols, (list, tuple,str))):\n",
    "        raise TypeError \n",
    "    data = pd.get_dummies(data, columns=cat_cols, drop_first=True)\n",
    "    xtest = pd.get_dummies(test, columns=cat_cols, drop_first=True)\n",
    "    \n",
    "    cat_enc = cat_encoders.TargetEncoder(cols=target_cols, smoothing=50)\n",
    "    train_ = data[data.Date < '2012-03-01']\n",
    "    val_ =  data[data.Date >= '2012-03-01']\n",
    "    \n",
    "    xtrain, ytrain = train_.drop('Weekly_Sales', 1), train_.Weekly_Sales\n",
    "    xval, yval = val_.drop('Weekly_Sales', 1), val_.Weekly_Sales\n",
    "    \n",
    "    cat_enc.fit(xtrain, ytrain**(1/4))\n",
    "    xtrain = cat_enc.transform(xtrain)\n",
    "    xval =  cat_enc.transform(xval)\n",
    "    xtest = cat_enc.transform(xtest)\n",
    "    return xtrain, xval, ytrain, yval, xtest"
   ]
  },
  {
   "cell_type": "code",
   "execution_count": 14,
   "metadata": {},
   "outputs": [],
   "source": [
    "def datasplit(data):\n",
    "    train_ = data[data.Date < '2012-03-01']\n",
    "    val_ =  data[data.Date >= '2012-03-01']\n",
    "    xtrain, ytrain = train_.drop('Weekly_Sales', 1), train_.Weekly_Sales\n",
    "    xval, yval = val_.drop('Weekly_Sales', 1), val_.Weekly_Sales\n",
    "    return xtrain, xval, ytrain, yval"
   ]
  },
  {
   "cell_type": "code",
   "execution_count": 16,
   "metadata": {},
   "outputs": [],
   "source": [
    "xtrain, xval, ytrain, yval = datasplit(train)"
   ]
  },
  {
   "cell_type": "code",
   "execution_count": 101,
   "metadata": {},
   "outputs": [],
   "source": [
    "xtrain_lin, xval_lin, ytrain_lin, yval_lin, xtest_lin = linearData(train, cat_cols=['Season', 'Type'], \n",
    "                                                                   target_cols=['Store', 'Dept'])"
   ]
  },
  {
   "cell_type": "code",
   "execution_count": 106,
   "metadata": {},
   "outputs": [
    {
     "data": {
      "text/plain": [
       "((317928, 22), (103642, 22), (317928, 19), (103642, 19))"
      ]
     },
     "execution_count": 106,
     "metadata": {},
     "output_type": "execute_result"
    }
   ],
   "source": [
    "xtrain_lin.shape, xval_lin.shape, xtrain.shape, xval.shape"
   ]
  },
  {
   "cell_type": "code",
   "execution_count": 19,
   "metadata": {},
   "outputs": [],
   "source": [
    "def WMAE_Score(dataset, Actual, predicted):\n",
    "    \"\"\"\n",
    "    Calculates the Weighted mean absolute error metric of the model\n",
    "    :params  dataset: dataset\n",
    "    :params Actual: Actual values\n",
    "    :params predicted: Predicted values\n",
    "    :returns the Weighted Mean Absolute Error (WMAE)\n",
    "    \"\"\"\n",
    "    weights = dataset.IsHoliday.apply(lambda x: 5 if x else 1)\n",
    "#     wmae = np.sum(weights * abs(Actual - predicted)) / (np.sum(weights)) #similar down\n",
    "    wmae = mean_absolute_error(Actual, predicted, sample_weight=weights)\n",
    "    return wmae"
   ]
  },
  {
   "cell_type": "code",
   "execution_count": 99,
   "metadata": {},
   "outputs": [],
   "source": [
    "def train_model(model, xtr, xvl, ytr, yvl):\n",
    "    xtr = xtr.drop(['Date'], 1)\n",
    "    xvl = xvl.drop(['Date'], 1)\n",
    "    ytr = ytr**(1/4)\n",
    "    yvl = yvl**(1/4)\n",
    "    \n",
    "    if model.__class__.__name__ in ['CatBoostRegressor', 'LGBMRegressor']:\n",
    "        model.fit(xtr, ytr, eval_set=[(xvl, yvl)], early_stopping_rounds=250, verbose=False)\n",
    "    else:\n",
    "        model.fit(xtr, ytr)\n",
    "    \n",
    "    preds = model.predict(xvl)**4 #converting to original using the inverse\n",
    "    \n",
    "    tr_weights = xtr.IsHoliday.apply(lambda x: 5 if x else 1)\n",
    "    val_weights = xvl.IsHoliday.apply(lambda x: 5 if x else 1)\n",
    "    \n",
    "    tr_rmse = mean_squared_error(ytr**4, model.predict(xtr)**4, squared=False, sample_weight=tr_weights)\n",
    "    tr_mae = mean_absolute_error(ytr**4, model.predict(xtr)**4, sample_weight=tr_weights)\n",
    "    \n",
    "    val_rmse = mean_squared_error(yvl**4, preds, squared=False, sample_weight=val_weights)\n",
    "    val_mae = mean_absolute_error(yvl**4, preds, sample_weight=val_weights)\n",
    "    print('Train WRMSE: {:.4f} Train WMAE: {:.4f}'.format(tr_rmse, tr_mae))\n",
    "    print('Val WRMSE: {:.4f} Val WMAE: {:.4f}'.format(val_rmse, val_mae))\n",
    "    return model"
   ]
  },
  {
   "cell_type": "code",
   "execution_count": 93,
   "metadata": {},
   "outputs": [],
   "source": [
    "num_cols = xtrain_lin.columns.drop(['Season_1', 'Season_2', 'Season_3', 'Type_2',\n",
    "                                    'Type_3', 'Date'])\n",
    "dont = ['Season_1', 'Season_2', 'Season_3', 'Type_2', 'Type_3']"
   ]
  },
  {
   "cell_type": "code",
   "execution_count": 94,
   "metadata": {},
   "outputs": [],
   "source": [
    "scaler = StandardScaler()\n",
    "coltrans = ColumnTransformer([\n",
    "    ('scale', scaler, num_cols),\n",
    "    ('no_scale', 'passthrough', dont)], n_jobs=-1)"
   ]
  },
  {
   "cell_type": "code",
   "execution_count": 95,
   "metadata": {},
   "outputs": [],
   "source": [
    "ridge = Ridge(random_state=seed, alpha=1500, solver='saga')\n",
    "\n",
    "rf = RandomForestRegressor(random_state=seed, min_samples_leaf=7, min_samples_split=5, \n",
    "                           max_features=0.4, n_jobs=-1, n_estimators=600, max_samples=0.7)\n",
    "\n",
    "catm = cat.CatBoostRegressor(random_seed=seed, n_estimators=6000, bootstrap_type='Bernoulli', \n",
    "                             subsample=0.7, rsm=0.7, silent=True, learning_rate=0.1)\n",
    "\n",
    "lgbm  = lgb.LGBMRegressor(random_state=seed, n_estimators=5000, learning_rate=0.06, reg_lambda=3, \n",
    "                          importance_type='gain', subsample=0.7, colsample_bytree=0.6)"
   ]
  },
  {
   "cell_type": "code",
   "execution_count": 96,
   "metadata": {},
   "outputs": [],
   "source": [
    "ridge_pl = Pipeline([('col_trans', coltrans), ('ridge', ridge)])"
   ]
  },
  {
   "cell_type": "markdown",
   "metadata": {},
   "source": [
    "**`TRAINING`**"
   ]
  },
  {
   "cell_type": "code",
   "execution_count": 107,
   "metadata": {},
   "outputs": [
    {
     "name": "stdout",
     "output_type": "stream",
     "text": [
      "Train WRMSE: 14461.9536 Train WMAE: 6429.7367\n",
      "Val WRMSE: 11176.0719 Val WMAE: 5925.2691\n"
     ]
    }
   ],
   "source": [
    "train_model(ridge_pl, xtrain_lin, xval_lin, ytrain_lin, yval_lin);"
   ]
  },
  {
   "cell_type": "code",
   "execution_count": 111,
   "metadata": {},
   "outputs": [
    {
     "name": "stdout",
     "output_type": "stream",
     "text": [
      "Train WRMSE: 10607.5466 Train WMAE: 3987.2793\n",
      "Val WRMSE: 8617.8684 Val WMAE: 4361.9955\n"
     ]
    }
   ],
   "source": [
    "train_model(rf, xtrain, xval, ytrain, yval);"
   ]
  },
  {
   "cell_type": "code",
   "execution_count": 112,
   "metadata": {},
   "outputs": [
    {
     "name": "stdout",
     "output_type": "stream",
     "text": [
      "Train WRMSE: 3728.3008 Train WMAE: 1470.4683\n",
      "Val WRMSE: 4461.1244 Val WMAE: 2162.4851\n"
     ]
    }
   ],
   "source": [
    "train_model(lgbm, xtrain, xval, ytrain, yval);"
   ]
  },
  {
   "cell_type": "code",
   "execution_count": 115,
   "metadata": {
    "scrolled": false
   },
   "outputs": [
    {
     "name": "stdout",
     "output_type": "stream",
     "text": [
      "Train WRMSE: 4736.9073 Train WMAE: 1815.7372\n",
      "Val WRMSE: 4646.8125 Val WMAE: 2313.4573\n"
     ]
    }
   ],
   "source": [
    "train_model(catm, xtrain, xval, ytrain, yval);"
   ]
  },
  {
   "cell_type": "code",
   "execution_count": 148,
   "metadata": {},
   "outputs": [
    {
     "data": {
      "text/plain": [
       "(5000, 5997)"
      ]
     },
     "execution_count": 148,
     "metadata": {},
     "output_type": "execute_result"
    }
   ],
   "source": [
    "lgbm.best_iteration_, catm.best_iteration_"
   ]
  },
  {
   "cell_type": "code",
   "execution_count": 119,
   "metadata": {},
   "outputs": [],
   "source": [
    "def plotImportance(model):\n",
    "    if model.__class__.__name__ == 'Ridge':\n",
    "        pd.Series(model.coef_, index=xtrain_lin.columns.drop(['Date'])).sort_values().plot.barh(\n",
    "            title=model.__class__.__name__)\n",
    "    else:\n",
    "        pd.Series(model.feature_importances_, index=xtrain.columns.drop(['Date'])).sort_values().plot.barh(\n",
    "            title=model.__class__.__name__)"
   ]
  },
  {
   "cell_type": "code",
   "execution_count": 120,
   "metadata": {},
   "outputs": [
    {
     "data": {
      "image/png": "[encoded data removed]",
      "text/plain": [
       "<Figure size 864x648 with 4 Axes>"
      ]
     },
     "metadata": {
      "needs_background": "light"
     },
     "output_type": "display_data"
    }
   ],
   "source": [
    "plt.figure(figsize=(12,9))\n",
    "for i, model in enumerate([ridge, rf,lgbm, catm]):\n",
    "    plt.subplot(2,2,i+1)\n",
    "    plotImportance(model)\n",
    "plt.tight_layout(pad=1.)"
   ]
  },
  {
   "cell_type": "code",
   "execution_count": 165,
   "metadata": {},
   "outputs": [],
   "source": [
    "def FinalPreds(model, X, y, test_set):\n",
    "    X = X.drop('Date', 1)\n",
    "    test_c = test_set.drop('Date', 1)\n",
    "    model.fit(X, y**(1/4))\n",
    "    preds = model.predict(test_c)**4\n",
    "    return preds"
   ]
  },
  {
   "cell_type": "markdown",
   "metadata": {},
   "source": [
    "**PREDICTIONS**"
   ]
  },
  {
   "cell_type": "code",
   "execution_count": 163,
   "metadata": {},
   "outputs": [
    {
     "data": {
      "text/plain": [
       "((115064, 22), (421570, 22))"
      ]
     },
     "execution_count": 163,
     "metadata": {},
     "output_type": "execute_result"
    }
   ],
   "source": [
    "xtest_lin.shape, X_lin.shape"
   ]
  },
  {
   "cell_type": "code",
   "execution_count": 156,
   "metadata": {},
   "outputs": [],
   "source": [
    "X_lin = pd.concat([xtrain_lin, xval_lin], axis=0)\n",
    "X = pd.concat([xtrain, xval], axis=0)\n",
    "y_lin = pd.concat([ytrain_lin, yval_lin], axis=0)\n",
    "y = pd.concat([ytrain, yval], axis=0)"
   ]
  },
  {
   "cell_type": "code",
   "execution_count": 166,
   "metadata": {},
   "outputs": [],
   "source": [
    "ridge_pred = FinalPreds(ridge_pl, X_lin, y_lin, xtest_lin)"
   ]
  },
  {
   "cell_type": "code",
   "execution_count": 176,
   "metadata": {},
   "outputs": [],
   "source": [
    "rf.n_estimators = 1000 #increasing number of trees\n",
    "rf_pred = FinalPreds(rf, X, y, test)"
   ]
  },
  {
   "cell_type": "code",
   "execution_count": 183,
   "metadata": {},
   "outputs": [],
   "source": [
    "lgbm.n_estimators = 6500\n",
    "lgb_pred = FinalPreds(lgbm, X, y, test)"
   ]
  },
  {
   "cell_type": "code",
   "execution_count": 194,
   "metadata": {},
   "outputs": [],
   "source": [
    "catm.n_estimators = 7500\n",
    "cat_pred = FinalPreds(catm, X, y, test)"
   ]
  },
  {
   "cell_type": "code",
   "execution_count": 213,
   "metadata": {},
   "outputs": [
    {
     "data": {
      "text/plain": [
       "3502279"
      ]
     },
     "execution_count": 213,
     "metadata": {},
     "output_type": "execute_result"
    }
   ],
   "source": [
    "gc.collect()"
   ]
  },
  {
   "cell_type": "code",
   "execution_count": 214,
   "metadata": {},
   "outputs": [],
   "source": [
    "wt_av = cat_pred * 0.3 + lgb_pred * 0.7"
   ]
  },
  {
   "cell_type": "code",
   "execution_count": 215,
   "metadata": {
    "scrolled": false
   },
   "outputs": [
    {
     "data": {
      "text/html": [
       "<div>\n",
       "<style scoped>\n",
       "    .dataframe tbody tr th:only-of-type {\n",
       "        vertical-align: middle;\n",
       "    }\n",
       "\n",
       "    .dataframe tbody tr th {\n",
       "        vertical-align: top;\n",
       "    }\n",
       "\n",
       "    .dataframe thead th {\n",
       "        text-align: right;\n",
       "    }\n",
       "</style>\n",
       "<table border=\"1\" class=\"dataframe\">\n",
       "  <thead>\n",
       "    <tr style=\"text-align: right;\">\n",
       "      <th></th>\n",
       "      <th>RIDGE</th>\n",
       "      <th>RF</th>\n",
       "      <th>LGB</th>\n",
       "      <th>CAT</th>\n",
       "      <th>WT_VOTING</th>\n",
       "    </tr>\n",
       "  </thead>\n",
       "  <tbody>\n",
       "    <tr>\n",
       "      <th>0</th>\n",
       "      <td>23427.337843</td>\n",
       "      <td>24807.997799</td>\n",
       "      <td>34004.789473</td>\n",
       "      <td>36000.719904</td>\n",
       "      <td>34603.568602</td>\n",
       "    </tr>\n",
       "    <tr>\n",
       "      <th>1</th>\n",
       "      <td>23540.548091</td>\n",
       "      <td>22436.707621</td>\n",
       "      <td>19580.275847</td>\n",
       "      <td>19171.289089</td>\n",
       "      <td>19457.579820</td>\n",
       "    </tr>\n",
       "    <tr>\n",
       "      <th>2</th>\n",
       "      <td>24050.362941</td>\n",
       "      <td>22129.254778</td>\n",
       "      <td>19274.504024</td>\n",
       "      <td>18953.246942</td>\n",
       "      <td>19178.126900</td>\n",
       "    </tr>\n",
       "    <tr>\n",
       "      <th>3</th>\n",
       "      <td>29699.626704</td>\n",
       "      <td>25391.657073</td>\n",
       "      <td>19122.032766</td>\n",
       "      <td>18420.680309</td>\n",
       "      <td>18911.627029</td>\n",
       "    </tr>\n",
       "    <tr>\n",
       "      <th>4</th>\n",
       "      <td>24072.818797</td>\n",
       "      <td>24976.135342</td>\n",
       "      <td>23457.201901</td>\n",
       "      <td>20313.639362</td>\n",
       "      <td>22514.133139</td>\n",
       "    </tr>\n",
       "    <tr>\n",
       "      <th>...</th>\n",
       "      <td>...</td>\n",
       "      <td>...</td>\n",
       "      <td>...</td>\n",
       "      <td>...</td>\n",
       "      <td>...</td>\n",
       "    </tr>\n",
       "    <tr>\n",
       "      <th>115059</th>\n",
       "      <td>2879.744890</td>\n",
       "      <td>802.643099</td>\n",
       "      <td>698.272118</td>\n",
       "      <td>778.018664</td>\n",
       "      <td>722.196082</td>\n",
       "    </tr>\n",
       "    <tr>\n",
       "      <th>115060</th>\n",
       "      <td>2983.631907</td>\n",
       "      <td>883.579463</td>\n",
       "      <td>857.337052</td>\n",
       "      <td>897.478213</td>\n",
       "      <td>869.379400</td>\n",
       "    </tr>\n",
       "    <tr>\n",
       "      <th>115061</th>\n",
       "      <td>2969.145125</td>\n",
       "      <td>841.465384</td>\n",
       "      <td>622.153133</td>\n",
       "      <td>726.825939</td>\n",
       "      <td>653.554975</td>\n",
       "    </tr>\n",
       "    <tr>\n",
       "      <th>115062</th>\n",
       "      <td>2927.321298</td>\n",
       "      <td>848.896893</td>\n",
       "      <td>584.547213</td>\n",
       "      <td>756.583197</td>\n",
       "      <td>636.158008</td>\n",
       "    </tr>\n",
       "    <tr>\n",
       "      <th>115063</th>\n",
       "      <td>2940.036844</td>\n",
       "      <td>811.132280</td>\n",
       "      <td>610.833385</td>\n",
       "      <td>759.071434</td>\n",
       "      <td>655.304799</td>\n",
       "    </tr>\n",
       "  </tbody>\n",
       "</table>\n",
       "<p>115064 rows × 5 columns</p>\n",
       "</div>"
      ],
      "text/plain": [
       "               RIDGE            RF           LGB           CAT     WT_VOTING\n",
       "0       23427.337843  24807.997799  34004.789473  36000.719904  34603.568602\n",
       "1       23540.548091  22436.707621  19580.275847  19171.289089  19457.579820\n",
       "2       24050.362941  22129.254778  19274.504024  18953.246942  19178.126900\n",
       "3       29699.626704  25391.657073  19122.032766  18420.680309  18911.627029\n",
       "4       24072.818797  24976.135342  23457.201901  20313.639362  22514.133139\n",
       "...              ...           ...           ...           ...           ...\n",
       "115059   2879.744890    802.643099    698.272118    778.018664    722.196082\n",
       "115060   2983.631907    883.579463    857.337052    897.478213    869.379400\n",
       "115061   2969.145125    841.465384    622.153133    726.825939    653.554975\n",
       "115062   2927.321298    848.896893    584.547213    756.583197    636.158008\n",
       "115063   2940.036844    811.132280    610.833385    759.071434    655.304799\n",
       "\n",
       "[115064 rows x 5 columns]"
      ]
     },
     "execution_count": 215,
     "metadata": {},
     "output_type": "execute_result"
    }
   ],
   "source": [
    "scores = pd.DataFrame(np.c_[ridge_pred, rf_pred, lgb_pred, cat_pred, wt_av], \n",
    "                      columns=['RIDGE', 'RF', 'LGB', 'CAT', 'WT_VOTING'])\n",
    "scores"
   ]
  },
  {
   "cell_type": "code",
   "execution_count": 216,
   "metadata": {
    "scrolled": false
   },
   "outputs": [
    {
     "data": {
      "image/png": "[encoded data removed]",
      "text/plain": [
       "<Figure size 432x288 with 2 Axes>"
      ]
     },
     "metadata": {
      "needs_background": "light"
     },
     "output_type": "display_data"
    }
   ],
   "source": [
    "sns.heatmap(scores.corr(), annot=True, fmt='.3f');"
   ]
  },
  {
   "cell_type": "markdown",
   "metadata": {},
   "source": [
    "**Submission**"
   ]
  },
  {
   "cell_type": "code",
   "execution_count": 200,
   "metadata": {},
   "outputs": [],
   "source": [
    "ridge_df = subfile.copy()\n",
    "ridge_df['Weekly_Sales'] = ridge_pred.astype('float32')"
   ]
  },
  {
   "cell_type": "code",
   "execution_count": 201,
   "metadata": {},
   "outputs": [],
   "source": [
    "rf_df = subfile.copy()\n",
    "rf_df['Weekly_Sales'] = rf_pred.astype('float32')"
   ]
  },
  {
   "cell_type": "code",
   "execution_count": 202,
   "metadata": {},
   "outputs": [],
   "source": [
    "lgb_df = subfile.copy()\n",
    "lgb_df['Weekly_Sales'] = lgb_pred.astype('float32')"
   ]
  },
  {
   "cell_type": "code",
   "execution_count": 203,
   "metadata": {},
   "outputs": [],
   "source": [
    "cat_df = subfile.copy()\n",
    "cat_df['Weekly_Sales'] = cat_pred.astype('float32')"
   ]
  },
  {
   "cell_type": "code",
   "execution_count": 217,
   "metadata": {},
   "outputs": [],
   "source": [
    "voting_df = subfile.copy()\n",
    "voting_df['Weekly_Sales'] = wt_av.astype('float32')"
   ]
  },
  {
   "cell_type": "raw",
   "metadata": {},
   "source": [
    "os.mkdir('predictions')"
   ]
  },
  {
   "cell_type": "code",
   "execution_count": 219,
   "metadata": {},
   "outputs": [],
   "source": [
    "ridge_df.to_csv(os.path.join(path, 'predictions/ridge_bl.csv'), index=False)\n",
    "rf_df.to_csv(os.path.join(path, 'predictions/rf_bl.csv'), index=False)\n",
    "lgb_df.to_csv(os.path.join(path, 'predictions/lgb_bl.csv'), index=False)\n",
    "cat_df.to_csv(os.path.join(path, 'predictions/cat_bl.csv'), index=False)\n",
    "voting_df.to_csv(os.path.join(path, 'predictions/voting_bl.csv'), index=False)"
   ]
  },
  {
   "cell_type": "code",
   "execution_count": 220,
   "metadata": {},
   "outputs": [
    {
     "data": {
      "text/plain": [
       "7459"
      ]
     },
     "execution_count": 220,
     "metadata": {},
     "output_type": "execute_result"
    }
   ],
   "source": [
    "gc.collect()"
   ]
  }
 ],
 "metadata": {
  "kernelspec": {
   "display_name": "Python 3",
   "language": "python",
   "name": "python3"
  },
  "language_info": {
   "codemirror_mode": {
    "name": "ipython",
    "version": 3
   },
   "file_extension": ".py",
   "mimetype": "text/x-python",
   "name": "python",
   "nbconvert_exporter": "python",
   "pygments_lexer": "ipython3",
   "version": "3.7.4"
  }
 },
 "nbformat": 4,
 "nbformat_minor": 2
}
