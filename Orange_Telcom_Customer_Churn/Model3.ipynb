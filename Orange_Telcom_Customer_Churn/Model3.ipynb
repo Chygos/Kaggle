{
 "cells": [
  {
   "cell_type": "markdown",
   "metadata": {},
   "source": [
    "<a href= \"https://www.kaggle.com/mnassrib/telecom-churn-datasets\">Orange Telecom Churn Dataset (Link to dataset)</a>"
   ]
  },
  {
   "cell_type": "markdown",
   "metadata": {},
   "source": [
    "<h4>Objective</h4>\n",
    "To predict if a customer will churn from Orange Telecom Company.\n",
    "\n",
    "<h5>Evaluation Metric</h5>\n",
    "F1 Score"
   ]
  },
  {
   "cell_type": "markdown",
   "metadata": {},
   "source": [
    "<b>Variable Definitions</b><br>\n",
    "<ul>\n",
    "    <li>State: State customer is located</li>\n",
    "    <li>Account length: Customer account length in days</li>\n",
    "    <li>Area code: Area code of customer's location</li>\n",
    "    <li>Phone number: Customer Phonenumber</li>\n",
    "    <li>International plan: Does customer have International plan (Yes or No)</li>\n",
    "    <li>Voicemail plan: Customer has voice mail plan (Yes or No)</li>\n",
    "    <li>Number vmail messages: Customer number of voice mail messages</li>\n",
    "    <li>Total day minutes: Total Call time in the daytime</li>\n",
    "    <li>Total day calls: Total calls in daytime</li>\n",
    "    <li>Total day charge: Total charges for calls in daytime</li>\n",
    "    <li>Total eve minutes: Total Call time in the evening </li>\n",
    "    <li>Total eve calls: Total calls in the evening</li>\n",
    "    <li>Total eve charge: Total charges for calls in the evening</li>\n",
    "    <li>Total night minutes: Total Call time at night</li>\n",
    "    <li>Total night calls: Total calls at night</li>\n",
    "    <li>Total night charge: Total charges for calls at night</li>\n",
    "    <li>Total intl minutes: Total intl call time</li>\n",
    "    <li>Total intl calls: Total Intl calls</li>\n",
    "    <li>Total intl charge: Total Intl call charges</li>\n",
    "    <li>Customer service calls: Customer customer service calls</li>\n",
    "    <li>Churn: Target- Whether customer churned or not(True or False)</li>\n",
    "</ul>"
   ]
  },
  {
   "cell_type": "code",
   "execution_count": 1,
   "metadata": {},
   "outputs": [],
   "source": [
    "path = \"C:/Machine_learning_datafiles/kaggle\""
   ]
  },
  {
   "cell_type": "code",
   "execution_count": 2,
   "metadata": {},
   "outputs": [],
   "source": [
    "import os, gc, warnings\n",
    "warnings.filterwarnings('ignore')"
   ]
  },
  {
   "cell_type": "code",
   "execution_count": 3,
   "metadata": {},
   "outputs": [],
   "source": [
    "import pandas as pd\n",
    "import numpy as np\n",
    "import matplotlib.pyplot as plt\n",
    "import seaborn as sns\n",
    "import random\n",
    "import scipy.stats as scipy_stats"
   ]
  },
  {
   "cell_type": "code",
   "execution_count": 4,
   "metadata": {},
   "outputs": [],
   "source": [
    "from sklearn.model_selection import train_test_split, StratifiedKFold, cross_val_score, StratifiedShuffleSplit\n",
    "from sklearn.linear_model import LogisticRegression\n",
    "from sklearn.metrics import roc_auc_score, precision_score, plot_confusion_matrix, plot_roc_curve\n",
    "from sklearn.metrics import recall_score, f1_score, classification_report\n",
    "from sklearn.preprocessing import LabelEncoder, StandardScaler\n",
    "from sklearn.pipeline import Pipeline\n",
    "from sklearn.ensemble import RandomForestClassifier, GradientBoostingClassifier\n",
    "from sklearn.compose import ColumnTransformer"
   ]
  },
  {
   "cell_type": "code",
   "execution_count": 5,
   "metadata": {},
   "outputs": [],
   "source": [
    "from sklearn.model_selection import GridSearchCV"
   ]
  },
  {
   "cell_type": "code",
   "execution_count": 6,
   "metadata": {},
   "outputs": [],
   "source": [
    "seed = 42\n",
    "random.seed(seed)\n",
    "np.random.seed(seed)"
   ]
  },
  {
   "cell_type": "code",
   "execution_count": 7,
   "metadata": {},
   "outputs": [],
   "source": [
    "plt.style.use('bmh')\n",
    "%matplotlib inline\n",
    "pd.set_option('display.max_columns', 70)"
   ]
  },
  {
   "cell_type": "code",
   "execution_count": 8,
   "metadata": {},
   "outputs": [],
   "source": [
    "data= pd.read_csv(path+'./Orange_Telcom_churn_cleaned.csv')"
   ]
  },
  {
   "cell_type": "code",
   "execution_count": 9,
   "metadata": {},
   "outputs": [
    {
     "data": {
      "text/html": [
       "<div>\n",
       "<style scoped>\n",
       "    .dataframe tbody tr th:only-of-type {\n",
       "        vertical-align: middle;\n",
       "    }\n",
       "\n",
       "    .dataframe tbody tr th {\n",
       "        vertical-align: top;\n",
       "    }\n",
       "\n",
       "    .dataframe thead th {\n",
       "        text-align: right;\n",
       "    }\n",
       "</style>\n",
       "<table border=\"1\" class=\"dataframe\">\n",
       "  <thead>\n",
       "    <tr style=\"text-align: right;\">\n",
       "      <th></th>\n",
       "      <th>state</th>\n",
       "      <th>account_length</th>\n",
       "      <th>area_code</th>\n",
       "      <th>phone_number</th>\n",
       "      <th>international_plan</th>\n",
       "      <th>voice_mail_plan</th>\n",
       "      <th>number_vmail_messages</th>\n",
       "      <th>total_day_minutes</th>\n",
       "      <th>total_day_calls</th>\n",
       "      <th>total_day_charge</th>\n",
       "      <th>total_eve_minutes</th>\n",
       "      <th>total_eve_calls</th>\n",
       "      <th>total_eve_charge</th>\n",
       "      <th>total_night_minutes</th>\n",
       "      <th>total_night_calls</th>\n",
       "      <th>total_night_charge</th>\n",
       "      <th>total_intl_minutes</th>\n",
       "      <th>total_intl_calls</th>\n",
       "      <th>total_intl_charge</th>\n",
       "      <th>customer_service_calls</th>\n",
       "      <th>churn</th>\n",
       "      <th>TotalCalls</th>\n",
       "      <th>TotalCharges</th>\n",
       "      <th>Total_call_mins</th>\n",
       "      <th>Night_mins_per_call</th>\n",
       "      <th>Day_mins_per_call</th>\n",
       "      <th>Eve_mins_per_call</th>\n",
       "      <th>Intl_mins_per_call</th>\n",
       "      <th>Tot_mins_per_call</th>\n",
       "      <th>Night_Charges_per_mins</th>\n",
       "      <th>Day_Charges_per_mins</th>\n",
       "      <th>Eve_Charges_per_mins</th>\n",
       "      <th>Intl_Charges_per_mins</th>\n",
       "      <th>Tot_charges_per_mins</th>\n",
       "      <th>intl_voicemail_plan</th>\n",
       "    </tr>\n",
       "  </thead>\n",
       "  <tbody>\n",
       "    <tr>\n",
       "      <th>0</th>\n",
       "      <td>KS</td>\n",
       "      <td>128</td>\n",
       "      <td>415</td>\n",
       "      <td>382-4657</td>\n",
       "      <td>0</td>\n",
       "      <td>1</td>\n",
       "      <td>25</td>\n",
       "      <td>265.1</td>\n",
       "      <td>110</td>\n",
       "      <td>45.07</td>\n",
       "      <td>197.4</td>\n",
       "      <td>99</td>\n",
       "      <td>16.78</td>\n",
       "      <td>244.7</td>\n",
       "      <td>91</td>\n",
       "      <td>11.01</td>\n",
       "      <td>10.0</td>\n",
       "      <td>3</td>\n",
       "      <td>2.70</td>\n",
       "      <td>1</td>\n",
       "      <td>False</td>\n",
       "      <td>300</td>\n",
       "      <td>72.86</td>\n",
       "      <td>707.2</td>\n",
       "      <td>2.689011</td>\n",
       "      <td>2.410000</td>\n",
       "      <td>1.993939</td>\n",
       "      <td>3.333333</td>\n",
       "      <td>2.357333</td>\n",
       "      <td>0.044994</td>\n",
       "      <td>0.170011</td>\n",
       "      <td>0.085005</td>\n",
       "      <td>0.270000</td>\n",
       "      <td>0.103026</td>\n",
       "      <td>0</td>\n",
       "    </tr>\n",
       "    <tr>\n",
       "      <th>1</th>\n",
       "      <td>OH</td>\n",
       "      <td>107</td>\n",
       "      <td>415</td>\n",
       "      <td>371-7191</td>\n",
       "      <td>0</td>\n",
       "      <td>1</td>\n",
       "      <td>26</td>\n",
       "      <td>161.6</td>\n",
       "      <td>123</td>\n",
       "      <td>27.47</td>\n",
       "      <td>195.5</td>\n",
       "      <td>103</td>\n",
       "      <td>16.62</td>\n",
       "      <td>254.4</td>\n",
       "      <td>103</td>\n",
       "      <td>11.45</td>\n",
       "      <td>13.7</td>\n",
       "      <td>3</td>\n",
       "      <td>3.70</td>\n",
       "      <td>1</td>\n",
       "      <td>False</td>\n",
       "      <td>329</td>\n",
       "      <td>55.54</td>\n",
       "      <td>611.5</td>\n",
       "      <td>2.469903</td>\n",
       "      <td>1.313821</td>\n",
       "      <td>1.898058</td>\n",
       "      <td>4.566667</td>\n",
       "      <td>1.858663</td>\n",
       "      <td>0.045008</td>\n",
       "      <td>0.169988</td>\n",
       "      <td>0.085013</td>\n",
       "      <td>0.270073</td>\n",
       "      <td>0.090826</td>\n",
       "      <td>0</td>\n",
       "    </tr>\n",
       "    <tr>\n",
       "      <th>2</th>\n",
       "      <td>NJ</td>\n",
       "      <td>137</td>\n",
       "      <td>415</td>\n",
       "      <td>358-1921</td>\n",
       "      <td>0</td>\n",
       "      <td>0</td>\n",
       "      <td>0</td>\n",
       "      <td>243.4</td>\n",
       "      <td>114</td>\n",
       "      <td>41.38</td>\n",
       "      <td>121.2</td>\n",
       "      <td>110</td>\n",
       "      <td>10.30</td>\n",
       "      <td>162.6</td>\n",
       "      <td>104</td>\n",
       "      <td>7.32</td>\n",
       "      <td>12.2</td>\n",
       "      <td>5</td>\n",
       "      <td>3.29</td>\n",
       "      <td>0</td>\n",
       "      <td>False</td>\n",
       "      <td>328</td>\n",
       "      <td>59.00</td>\n",
       "      <td>527.2</td>\n",
       "      <td>1.563462</td>\n",
       "      <td>2.135088</td>\n",
       "      <td>1.101818</td>\n",
       "      <td>2.440000</td>\n",
       "      <td>1.607317</td>\n",
       "      <td>0.045018</td>\n",
       "      <td>0.170008</td>\n",
       "      <td>0.084983</td>\n",
       "      <td>0.269672</td>\n",
       "      <td>0.111912</td>\n",
       "      <td>0</td>\n",
       "    </tr>\n",
       "    <tr>\n",
       "      <th>3</th>\n",
       "      <td>OH</td>\n",
       "      <td>84</td>\n",
       "      <td>408</td>\n",
       "      <td>375-9999</td>\n",
       "      <td>1</td>\n",
       "      <td>0</td>\n",
       "      <td>0</td>\n",
       "      <td>299.4</td>\n",
       "      <td>71</td>\n",
       "      <td>50.90</td>\n",
       "      <td>61.9</td>\n",
       "      <td>88</td>\n",
       "      <td>5.26</td>\n",
       "      <td>196.9</td>\n",
       "      <td>89</td>\n",
       "      <td>8.86</td>\n",
       "      <td>6.6</td>\n",
       "      <td>7</td>\n",
       "      <td>1.78</td>\n",
       "      <td>2</td>\n",
       "      <td>False</td>\n",
       "      <td>248</td>\n",
       "      <td>65.02</td>\n",
       "      <td>558.2</td>\n",
       "      <td>2.212360</td>\n",
       "      <td>4.216901</td>\n",
       "      <td>0.703409</td>\n",
       "      <td>0.942857</td>\n",
       "      <td>2.250806</td>\n",
       "      <td>0.044997</td>\n",
       "      <td>0.170007</td>\n",
       "      <td>0.084976</td>\n",
       "      <td>0.269697</td>\n",
       "      <td>0.116482</td>\n",
       "      <td>0</td>\n",
       "    </tr>\n",
       "    <tr>\n",
       "      <th>4</th>\n",
       "      <td>OK</td>\n",
       "      <td>75</td>\n",
       "      <td>415</td>\n",
       "      <td>330-6626</td>\n",
       "      <td>1</td>\n",
       "      <td>0</td>\n",
       "      <td>0</td>\n",
       "      <td>166.7</td>\n",
       "      <td>113</td>\n",
       "      <td>28.34</td>\n",
       "      <td>148.3</td>\n",
       "      <td>122</td>\n",
       "      <td>12.61</td>\n",
       "      <td>186.9</td>\n",
       "      <td>121</td>\n",
       "      <td>8.41</td>\n",
       "      <td>10.1</td>\n",
       "      <td>3</td>\n",
       "      <td>2.73</td>\n",
       "      <td>3</td>\n",
       "      <td>False</td>\n",
       "      <td>356</td>\n",
       "      <td>49.36</td>\n",
       "      <td>501.9</td>\n",
       "      <td>1.544628</td>\n",
       "      <td>1.475221</td>\n",
       "      <td>1.215574</td>\n",
       "      <td>3.366667</td>\n",
       "      <td>1.409831</td>\n",
       "      <td>0.044997</td>\n",
       "      <td>0.170006</td>\n",
       "      <td>0.085030</td>\n",
       "      <td>0.270297</td>\n",
       "      <td>0.098346</td>\n",
       "      <td>0</td>\n",
       "    </tr>\n",
       "  </tbody>\n",
       "</table>\n",
       "</div>"
      ],
      "text/plain": [
       "  state  account_length  area_code phone_number  international_plan  \\\n",
       "0    KS             128        415     382-4657                   0   \n",
       "1    OH             107        415     371-7191                   0   \n",
       "2    NJ             137        415     358-1921                   0   \n",
       "3    OH              84        408     375-9999                   1   \n",
       "4    OK              75        415     330-6626                   1   \n",
       "\n",
       "   voice_mail_plan  number_vmail_messages  total_day_minutes  total_day_calls  \\\n",
       "0                1                     25              265.1              110   \n",
       "1                1                     26              161.6              123   \n",
       "2                0                      0              243.4              114   \n",
       "3                0                      0              299.4               71   \n",
       "4                0                      0              166.7              113   \n",
       "\n",
       "   total_day_charge  total_eve_minutes  total_eve_calls  total_eve_charge  \\\n",
       "0             45.07              197.4               99             16.78   \n",
       "1             27.47              195.5              103             16.62   \n",
       "2             41.38              121.2              110             10.30   \n",
       "3             50.90               61.9               88              5.26   \n",
       "4             28.34              148.3              122             12.61   \n",
       "\n",
       "   total_night_minutes  total_night_calls  total_night_charge  \\\n",
       "0                244.7                 91               11.01   \n",
       "1                254.4                103               11.45   \n",
       "2                162.6                104                7.32   \n",
       "3                196.9                 89                8.86   \n",
       "4                186.9                121                8.41   \n",
       "\n",
       "   total_intl_minutes  total_intl_calls  total_intl_charge  \\\n",
       "0                10.0                 3               2.70   \n",
       "1                13.7                 3               3.70   \n",
       "2                12.2                 5               3.29   \n",
       "3                 6.6                 7               1.78   \n",
       "4                10.1                 3               2.73   \n",
       "\n",
       "   customer_service_calls  churn  TotalCalls  TotalCharges  Total_call_mins  \\\n",
       "0                       1  False         300         72.86            707.2   \n",
       "1                       1  False         329         55.54            611.5   \n",
       "2                       0  False         328         59.00            527.2   \n",
       "3                       2  False         248         65.02            558.2   \n",
       "4                       3  False         356         49.36            501.9   \n",
       "\n",
       "   Night_mins_per_call  Day_mins_per_call  Eve_mins_per_call  \\\n",
       "0             2.689011           2.410000           1.993939   \n",
       "1             2.469903           1.313821           1.898058   \n",
       "2             1.563462           2.135088           1.101818   \n",
       "3             2.212360           4.216901           0.703409   \n",
       "4             1.544628           1.475221           1.215574   \n",
       "\n",
       "   Intl_mins_per_call  Tot_mins_per_call  Night_Charges_per_mins  \\\n",
       "0            3.333333           2.357333                0.044994   \n",
       "1            4.566667           1.858663                0.045008   \n",
       "2            2.440000           1.607317                0.045018   \n",
       "3            0.942857           2.250806                0.044997   \n",
       "4            3.366667           1.409831                0.044997   \n",
       "\n",
       "   Day_Charges_per_mins  Eve_Charges_per_mins  Intl_Charges_per_mins  \\\n",
       "0              0.170011              0.085005               0.270000   \n",
       "1              0.169988              0.085013               0.270073   \n",
       "2              0.170008              0.084983               0.269672   \n",
       "3              0.170007              0.084976               0.269697   \n",
       "4              0.170006              0.085030               0.270297   \n",
       "\n",
       "   Tot_charges_per_mins  intl_voicemail_plan  \n",
       "0              0.103026                    0  \n",
       "1              0.090826                    0  \n",
       "2              0.111912                    0  \n",
       "3              0.116482                    0  \n",
       "4              0.098346                    0  "
      ]
     },
     "execution_count": 9,
     "metadata": {},
     "output_type": "execute_result"
    }
   ],
   "source": [
    "data.head()"
   ]
  },
  {
   "cell_type": "code",
   "execution_count": 10,
   "metadata": {},
   "outputs": [
    {
     "data": {
      "text/plain": [
       "(3333, 35)"
      ]
     },
     "execution_count": 10,
     "metadata": {},
     "output_type": "execute_result"
    }
   ],
   "source": [
    "data.shape"
   ]
  },
  {
   "cell_type": "code",
   "execution_count": 11,
   "metadata": {},
   "outputs": [],
   "source": [
    "state_churn_rate = data.groupby('state').churn.mean().sort_values(ascending=False)"
   ]
  },
  {
   "cell_type": "markdown",
   "metadata": {},
   "source": [
    "**Categorical Encoding**"
   ]
  },
  {
   "cell_type": "markdown",
   "metadata": {},
   "source": [
    "Because of the high cardinality of the states, I'll represent each state by their churn rates."
   ]
  },
  {
   "cell_type": "code",
   "execution_count": 12,
   "metadata": {},
   "outputs": [],
   "source": [
    "def DataTypes(data, type_str='linear'):\n",
    "    \"\"\"Creates Data based on the type of model to use- Linear or non-linear model\n",
    "    :params type_str: Model type\n",
    "    :returns Data\n",
    "    \"\"\"\n",
    "    data_copy = data.copy()\n",
    "    \n",
    "    if type_str == 'linear':\n",
    "        data_copy.state = data.state.map(state_churn_rate)\n",
    "        data_copy.churn = data_copy['churn'] * 1\n",
    "    elif type_str == 'non-linear':\n",
    "        data_copy.state = data.state.factorize(sort=True)[0]\n",
    "        data_copy.churn = data_copy['churn'] * 1\n",
    "    return data_copy"
   ]
  },
  {
   "cell_type": "code",
   "execution_count": 13,
   "metadata": {},
   "outputs": [],
   "source": [
    "lin_data = DataTypes(data)\n",
    "non_lin_data = DataTypes(data, 'non-linear')"
   ]
  },
  {
   "cell_type": "code",
   "execution_count": 14,
   "metadata": {},
   "outputs": [
    {
     "data": {
      "text/plain": [
       "((3333, 35), (3333, 35))"
      ]
     },
     "execution_count": 14,
     "metadata": {},
     "output_type": "execute_result"
    }
   ],
   "source": [
    "lin_data.shape, non_lin_data.shape"
   ]
  },
  {
   "cell_type": "markdown",
   "metadata": {},
   "source": [
    "**Modelling**"
   ]
  },
  {
   "cell_type": "markdown",
   "metadata": {},
   "source": [
    "From the EDA, we checked the statistical significance of the relationsip btw the Target distribution and the in dependent features.<br> \n",
    "We will be dropping columns that have p-values greater than 0.05 (5% significance level), account_length, area_code, total day, eve, and night charges per minutes, total day, eve, and night minutes per call, area_code,and account_length."
   ]
  },
  {
   "cell_type": "code",
   "execution_count": 15,
   "metadata": {},
   "outputs": [],
   "source": [
    "drop_cols = ['phone_number', 'total_day_minutes', 'total_eve_minutes', 'total_night_minutes', \n",
    "             'total_intl_minutes','Eve_Charges_per_mins', 'Intl_Charges_per_mins', 'Day_Charges_per_mins', \n",
    "             'Night_Charges_per_mins', 'TotalCalls', 'Night_mins_per_call', 'total_night_calls', \n",
    "             'total_eve_calls', 'total_day_calls', 'account_length', 'total_day_charge', 'total_eve_charge', \n",
    "             'total_night_charge', 'area_code', 'Day_Charges_per_mins', 'Eve_Charges_per_mins', \n",
    "             'Day_mins_per_call', 'Eve_mins_per_call'] #columns to drop"
   ]
  },
  {
   "cell_type": "code",
   "execution_count": 16,
   "metadata": {},
   "outputs": [
    {
     "data": {
      "text/plain": [
       "((3333, 35), (3333, 35))"
      ]
     },
     "execution_count": 16,
     "metadata": {},
     "output_type": "execute_result"
    }
   ],
   "source": [
    "lin_data.shape, non_lin_data.shape"
   ]
  },
  {
   "cell_type": "code",
   "execution_count": 17,
   "metadata": {},
   "outputs": [],
   "source": [
    "lin_data = lin_data.sample(frac=1, random_state=seed) #shuffling data\n",
    "non_lin_data = non_lin_data.sample(frac=1, random_state=seed)"
   ]
  },
  {
   "cell_type": "code",
   "execution_count": 18,
   "metadata": {},
   "outputs": [],
   "source": [
    "X_lin = lin_data.drop(drop_cols+['churn'], 1)\n",
    "X = non_lin_data.drop(drop_cols+['churn'], 1)\n",
    "y = lin_data.churn"
   ]
  },
  {
   "cell_type": "code",
   "execution_count": 19,
   "metadata": {},
   "outputs": [
    {
     "data": {
      "text/plain": [
       "((3333, 13), (3333, 13), 23)"
      ]
     },
     "execution_count": 19,
     "metadata": {},
     "output_type": "execute_result"
    }
   ],
   "source": [
    "X.shape, X_lin.shape, len(drop_cols)"
   ]
  },
  {
   "cell_type": "code",
   "execution_count": 20,
   "metadata": {},
   "outputs": [],
   "source": [
    "xtrain_lin, xtest_lin, ytrain_lin, ytest_lin = train_test_split(X_lin, y, test_size=0.25, random_state=seed, stratify=y)\n",
    "xtrain, xtest, ytrain, ytest = train_test_split(X, y, test_size=0.25, random_state=seed, stratify=y)"
   ]
  },
  {
   "cell_type": "code",
   "execution_count": 21,
   "metadata": {},
   "outputs": [
    {
     "data": {
      "text/plain": [
       "((2499, 13), (834, 13), (2499, 13), (834, 13))"
      ]
     },
     "execution_count": 21,
     "metadata": {},
     "output_type": "execute_result"
    }
   ],
   "source": [
    "xtrain.shape, xtest.shape, xtrain_lin.shape, xtest_lin.shape"
   ]
  },
  {
   "cell_type": "code",
   "execution_count": 22,
   "metadata": {},
   "outputs": [
    {
     "name": "stdout",
     "output_type": "stream",
     "text": [
      "0    2137\n",
      "1     362\n",
      "Name: churn, dtype: int64\n",
      "0    713\n",
      "1    121\n",
      "Name: churn, dtype: int64\n"
     ]
    }
   ],
   "source": [
    "print(ytrain.value_counts())\n",
    "print(ytest.value_counts())"
   ]
  },
  {
   "cell_type": "code",
   "execution_count": 23,
   "metadata": {},
   "outputs": [],
   "source": [
    "scale = ['number_vmail_messages', 'total_intl_calls', 'total_intl_charge', 'customer_service_calls', \n",
    "         'TotalCharges', 'Total_call_mins', 'Intl_mins_per_call', 'Tot_mins_per_call', 'Tot_charges_per_mins']\n",
    "\n",
    "dont_scale = [col for col in X_lin.columns if col not in scale]"
   ]
  },
  {
   "cell_type": "code",
   "execution_count": 24,
   "metadata": {},
   "outputs": [
    {
     "data": {
      "text/plain": [
       "Index(['state', 'international_plan', 'voice_mail_plan',\n",
       "       'number_vmail_messages', 'total_intl_calls', 'total_intl_charge',\n",
       "       'customer_service_calls', 'TotalCharges', 'Total_call_mins',\n",
       "       'Intl_mins_per_call', 'Tot_mins_per_call', 'Tot_charges_per_mins',\n",
       "       'intl_voicemail_plan'],\n",
       "      dtype='object')"
      ]
     },
     "execution_count": 24,
     "metadata": {},
     "output_type": "execute_result"
    }
   ],
   "source": [
    "xtrain.columns"
   ]
  },
  {
   "cell_type": "code",
   "execution_count": 25,
   "metadata": {},
   "outputs": [
    {
     "data": {
      "text/plain": [
       "(9, 4)"
      ]
     },
     "execution_count": 25,
     "metadata": {},
     "output_type": "execute_result"
    }
   ],
   "source": [
    "len(scale), len(dont_scale)"
   ]
  },
  {
   "cell_type": "code",
   "execution_count": 26,
   "metadata": {},
   "outputs": [],
   "source": [
    "scaler = StandardScaler()\n",
    "transformer = ColumnTransformer(transformers=[\n",
    "    ('scale', scaler, scale),\n",
    "    ('dont_scale', 'passthrough', dont_scale)\n",
    "], n_jobs=-1, remainder='passthrough')"
   ]
  },
  {
   "cell_type": "code",
   "execution_count": 27,
   "metadata": {},
   "outputs": [],
   "source": [
    "def metricScores(model, x, y):\n",
    "    f_score = f1_score(y, model.predict(x))\n",
    "    auc_score = roc_auc_score(y, model.predict_proba(x)[:,1])\n",
    "    recall = recall_score(y, model.predict(x))\n",
    "    precision = precision_score(y, model.predict(x))\n",
    "    return f_score, auc_score, recall, precision\n",
    "\n",
    "def printReport(model, x, y):\n",
    "    print(classification_report(y, model.predict(x),target_names=['Churn_No', 'Churn_Yes']))\n",
    "\n",
    "def plotFigure(model, x, y, title):\n",
    "    fig, ax = plt.subplots(1,2,figsize=(10,4))\n",
    "    plot_confusion_matrix(model, x, y, display_labels=['Churn_No', 'Churn_Yes'], ax=ax[0])\n",
    "    plot_roc_curve(model, x, y, ax=ax[1],name=title)\n",
    "    ax[0].grid(False)\n",
    "    plt.tight_layout(pad=1.)"
   ]
  },
  {
   "cell_type": "code",
   "execution_count": 28,
   "metadata": {},
   "outputs": [],
   "source": [
    "def featureImportance(model, x, y):\n",
    "    if hasattr(model, 'named_steps'):\n",
    "        if 'logreg' in model.named_steps.keys():\n",
    "            imp = pd.Series(model.named_steps['logreg'].coef_.ravel(), index=x.columns).sort_values()\n",
    "            imp.plot.barh(title=model.named_steps['logreg'].__class__.__name__)\n",
    "    else:\n",
    "        imp= pd.Series(model.feature_importances_, index=x.columns).sort_values()\n",
    "        imp.plot.barh(title=model.__class__.__name__)"
   ]
  },
  {
   "cell_type": "code",
   "execution_count": 29,
   "metadata": {},
   "outputs": [],
   "source": [
    "def crossValScores(model, xtr, ytr, cv=5):\n",
    "    cvs= cross_val_score(model, xtr, ytr, cv=cv, scoring='f1', n_jobs=-1)\n",
    "    print('Mean F1 Score: {:.3f} +- {:.3f}'.format(cvs.mean(), cvs.std()))"
   ]
  },
  {
   "cell_type": "code",
   "execution_count": 30,
   "metadata": {},
   "outputs": [],
   "source": [
    "logreg = LogisticRegression(max_iter=500, random_state=seed, class_weight='balanced', solver='liblinear')\n",
    "rf = RandomForestClassifier(n_estimators=200, min_samples_leaf=3, min_samples_split=3, random_state=seed, \n",
    "                            criterion='entropy', class_weight='balanced')\n",
    "gbm = GradientBoostingClassifier(n_estimators=200, random_state=seed, max_features=0.3)"
   ]
  },
  {
   "cell_type": "code",
   "execution_count": 31,
   "metadata": {},
   "outputs": [],
   "source": [
    "logreg_pl = Pipeline([('transformer', transformer), ('logreg', logreg)])"
   ]
  },
  {
   "cell_type": "markdown",
   "metadata": {},
   "source": [
    "**Cross validation**<br>\n",
    "Because the dataset is small I'll be using the sklearn's cross val score which splits a dataset into training and validation sets and stores the evaluation scores at each crossvalidation fold"
   ]
  },
  {
   "cell_type": "code",
   "execution_count": 32,
   "metadata": {},
   "outputs": [],
   "source": [
    "skfold = StratifiedKFold(n_splits=10, shuffle=True, random_state=seed)"
   ]
  },
  {
   "cell_type": "code",
   "execution_count": 33,
   "metadata": {},
   "outputs": [
    {
     "name": "stdout",
     "output_type": "stream",
     "text": [
      "Mean F1 Score: 0.528 +- 0.049\n"
     ]
    }
   ],
   "source": [
    "crossValScores(logreg_pl, xtrain_lin, ytrain_lin, skfold)"
   ]
  },
  {
   "cell_type": "code",
   "execution_count": 34,
   "metadata": {},
   "outputs": [
    {
     "name": "stdout",
     "output_type": "stream",
     "text": [
      "Mean F1 Score: 0.885 +- 0.054\n"
     ]
    }
   ],
   "source": [
    "crossValScores(rf, xtrain, ytrain, skfold)"
   ]
  },
  {
   "cell_type": "code",
   "execution_count": 35,
   "metadata": {},
   "outputs": [
    {
     "name": "stdout",
     "output_type": "stream",
     "text": [
      "Mean F1 Score: 0.885 +- 0.040\n"
     ]
    }
   ],
   "source": [
    "crossValScores(gbm, xtrain, ytrain, skfold)"
   ]
  },
  {
   "cell_type": "markdown",
   "metadata": {},
   "source": [
    "<hr>"
   ]
  },
  {
   "cell_type": "markdown",
   "metadata": {},
   "source": [
    "**HyperParameter Tuning**"
   ]
  },
  {
   "cell_type": "code",
   "execution_count": 36,
   "metadata": {},
   "outputs": [],
   "source": [
    "def GridScores(model, xtr, ytr, params, cv=5, scoring='f1'):\n",
    "    gcv = GridSearchCV(model, params, scoring=scoring, cv=cv, n_jobs=-1)\n",
    "    gcv.fit(xtr, ytr)\n",
    "    return gcv"
   ]
  },
  {
   "cell_type": "code",
   "execution_count": 37,
   "metadata": {},
   "outputs": [],
   "source": [
    "# logreg_params = {\n",
    "#     'logreg__C' : [1,1.5,2,2.5],\n",
    "#     'logreg__solver' : ['liblinear', 'lbfgs'],\n",
    "#     'logreg__penalty' : ['l2'],\n",
    "#     'logreg__max_iter' : [500]\n",
    "# }"
   ]
  },
  {
   "cell_type": "code",
   "execution_count": 38,
   "metadata": {},
   "outputs": [],
   "source": [
    "# params = {\n",
    "#     'min_samples_leaf' : [1],\n",
    "#     'min_samples_split' : [2],\n",
    "#     'max_features' : [0.8],\n",
    "#     'n_estimators' : [80],\n",
    "#     'max_depth' : [10],\n",
    "#     'learning_rate' : [0.1]\n",
    "# }"
   ]
  },
  {
   "cell_type": "code",
   "execution_count": 39,
   "metadata": {},
   "outputs": [],
   "source": [
    "# gcv = GridScores(rf, xtrain, ytrain, params, cv=5)"
   ]
  },
  {
   "cell_type": "code",
   "execution_count": 40,
   "metadata": {},
   "outputs": [],
   "source": [
    "# gcv.best_score_, gcv.best_params_"
   ]
  },
  {
   "cell_type": "code",
   "execution_count": 41,
   "metadata": {},
   "outputs": [],
   "source": [
    "# gcv.cv_results_['mean_test_score']"
   ]
  },
  {
   "cell_type": "markdown",
   "metadata": {},
   "source": [
    "**Optimal Parameters**\n",
    "<pre>\n",
    "1. logreg: 0.5323980044199086,\n",
    " {'logreg__C': 1.5,\n",
    "  'logreg__max_iter': 500,\n",
    "  'logreg__penalty': 'l2',\n",
    "  'logreg__solver': 'lbfgs'}\n",
    "\n",
    "2. RF: (0.9030078894874493,\n",
    " {'max_depth': 10,\n",
    "  'max_features': 0.8,\n",
    "  'min_samples_leaf': 1,\n",
    "  'min_samples_split': 2,\n",
    "  'n_estimators': 80})\n",
    "\n",
    "3. GBM: 0.9056754158473067,\n",
    " {'learning_rate': 0.1,\n",
    "  'max_depth': 3,\n",
    "  'max_features': 0.7,\n",
    "  'min_samples_leaf': 7,\n",
    "  'min_samples_split': 2,\n",
    "  'n_estimators': 100}\n",
    "</pre>"
   ]
  },
  {
   "cell_type": "markdown",
   "metadata": {},
   "source": [
    "<hr>"
   ]
  },
  {
   "cell_type": "markdown",
   "metadata": {},
   "source": [
    "**Training and Prediction**"
   ]
  },
  {
   "cell_type": "code",
   "execution_count": 42,
   "metadata": {},
   "outputs": [],
   "source": [
    "logreg = LogisticRegression(max_iter=500, random_state=seed, class_weight='balanced', C=1.5, solver='lbfgs', \n",
    "                            penalty='l2')\n",
    "\n",
    "rf = RandomForestClassifier(n_estimators=80, min_samples_leaf=1, min_samples_split=2, random_state=seed, \n",
    "                            criterion='entropy', class_weight='balanced', max_depth=10, max_features=0.8)\n",
    "\n",
    "gbm = GradientBoostingClassifier(n_estimators=100, random_state=seed, max_features=0.7, min_samples_leaf=7, \n",
    "                                 min_samples_split=2, max_depth=3, learning_rate=0.1)"
   ]
  },
  {
   "cell_type": "code",
   "execution_count": 43,
   "metadata": {},
   "outputs": [],
   "source": [
    "logreg_pl = Pipeline([('transformer', transformer), ('logreg', logreg)])"
   ]
  },
  {
   "cell_type": "markdown",
   "metadata": {},
   "source": [
    "<hr>"
   ]
  },
  {
   "cell_type": "code",
   "execution_count": 44,
   "metadata": {},
   "outputs": [
    {
     "name": "stdout",
     "output_type": "stream",
     "text": [
      "Mean F1 Score: 0.527 +- 0.051\n"
     ]
    }
   ],
   "source": [
    "crossValScores(logreg_pl, xtrain_lin, ytrain_lin, skfold)"
   ]
  },
  {
   "cell_type": "code",
   "execution_count": 45,
   "metadata": {},
   "outputs": [
    {
     "name": "stdout",
     "output_type": "stream",
     "text": [
      "Mean F1 Score: 0.885 +- 0.043\n"
     ]
    }
   ],
   "source": [
    "crossValScores(rf, xtrain, ytrain, skfold)"
   ]
  },
  {
   "cell_type": "code",
   "execution_count": 46,
   "metadata": {},
   "outputs": [
    {
     "name": "stdout",
     "output_type": "stream",
     "text": [
      "Mean F1 Score: 0.896 +- 0.042\n"
     ]
    }
   ],
   "source": [
    "crossValScores(gbm, xtrain, ytrain, skfold)"
   ]
  },
  {
   "cell_type": "markdown",
   "metadata": {},
   "source": [
    "<hr>"
   ]
  },
  {
   "cell_type": "code",
   "execution_count": 47,
   "metadata": {},
   "outputs": [],
   "source": [
    "def trainModel(model, xtr, ytr, xte, yte):\n",
    "    model.fit(xtr, ytr)\n",
    "    fscore,auc_score, recall, precision = metricScores(model, xte, yte)\n",
    "    scores = pd.DataFrame({'F1':fscore, 'AUC' : auc_score, 'RECALL' : recall, 'PRECISION' : precision}, index=[1])\n",
    "    return scores"
   ]
  },
  {
   "cell_type": "code",
   "execution_count": 48,
   "metadata": {},
   "outputs": [
    {
     "data": {
      "text/html": [
       "<div>\n",
       "<style scoped>\n",
       "    .dataframe tbody tr th:only-of-type {\n",
       "        vertical-align: middle;\n",
       "    }\n",
       "\n",
       "    .dataframe tbody tr th {\n",
       "        vertical-align: top;\n",
       "    }\n",
       "\n",
       "    .dataframe thead th {\n",
       "        text-align: right;\n",
       "    }\n",
       "</style>\n",
       "<table border=\"1\" class=\"dataframe\">\n",
       "  <thead>\n",
       "    <tr style=\"text-align: right;\">\n",
       "      <th></th>\n",
       "      <th>F1</th>\n",
       "      <th>AUC</th>\n",
       "      <th>RECALL</th>\n",
       "      <th>PRECISION</th>\n",
       "    </tr>\n",
       "  </thead>\n",
       "  <tbody>\n",
       "    <tr>\n",
       "      <th>1</th>\n",
       "      <td>0.526611</td>\n",
       "      <td>0.846939</td>\n",
       "      <td>0.77686</td>\n",
       "      <td>0.398305</td>\n",
       "    </tr>\n",
       "  </tbody>\n",
       "</table>\n",
       "</div>"
      ],
      "text/plain": [
       "         F1       AUC   RECALL  PRECISION\n",
       "1  0.526611  0.846939  0.77686   0.398305"
      ]
     },
     "execution_count": 48,
     "metadata": {},
     "output_type": "execute_result"
    }
   ],
   "source": [
    "trainModel(logreg_pl, xtrain_lin, ytrain_lin, xtest_lin, ytest_lin)"
   ]
  },
  {
   "cell_type": "code",
   "execution_count": 49,
   "metadata": {},
   "outputs": [
    {
     "data": {
      "text/html": [
       "<div>\n",
       "<style scoped>\n",
       "    .dataframe tbody tr th:only-of-type {\n",
       "        vertical-align: middle;\n",
       "    }\n",
       "\n",
       "    .dataframe tbody tr th {\n",
       "        vertical-align: top;\n",
       "    }\n",
       "\n",
       "    .dataframe thead th {\n",
       "        text-align: right;\n",
       "    }\n",
       "</style>\n",
       "<table border=\"1\" class=\"dataframe\">\n",
       "  <thead>\n",
       "    <tr style=\"text-align: right;\">\n",
       "      <th></th>\n",
       "      <th>F1</th>\n",
       "      <th>AUC</th>\n",
       "      <th>RECALL</th>\n",
       "      <th>PRECISION</th>\n",
       "    </tr>\n",
       "  </thead>\n",
       "  <tbody>\n",
       "    <tr>\n",
       "      <th>1</th>\n",
       "      <td>0.887892</td>\n",
       "      <td>0.919256</td>\n",
       "      <td>0.818182</td>\n",
       "      <td>0.970588</td>\n",
       "    </tr>\n",
       "  </tbody>\n",
       "</table>\n",
       "</div>"
      ],
      "text/plain": [
       "         F1       AUC    RECALL  PRECISION\n",
       "1  0.887892  0.919256  0.818182   0.970588"
      ]
     },
     "execution_count": 49,
     "metadata": {},
     "output_type": "execute_result"
    }
   ],
   "source": [
    "trainModel(rf, xtrain, ytrain, xtest, ytest)"
   ]
  },
  {
   "cell_type": "code",
   "execution_count": 50,
   "metadata": {},
   "outputs": [
    {
     "data": {
      "text/html": [
       "<div>\n",
       "<style scoped>\n",
       "    .dataframe tbody tr th:only-of-type {\n",
       "        vertical-align: middle;\n",
       "    }\n",
       "\n",
       "    .dataframe tbody tr th {\n",
       "        vertical-align: top;\n",
       "    }\n",
       "\n",
       "    .dataframe thead th {\n",
       "        text-align: right;\n",
       "    }\n",
       "</style>\n",
       "<table border=\"1\" class=\"dataframe\">\n",
       "  <thead>\n",
       "    <tr style=\"text-align: right;\">\n",
       "      <th></th>\n",
       "      <th>F1</th>\n",
       "      <th>AUC</th>\n",
       "      <th>RECALL</th>\n",
       "      <th>PRECISION</th>\n",
       "    </tr>\n",
       "  </thead>\n",
       "  <tbody>\n",
       "    <tr>\n",
       "      <th>1</th>\n",
       "      <td>0.887892</td>\n",
       "      <td>0.912974</td>\n",
       "      <td>0.818182</td>\n",
       "      <td>0.970588</td>\n",
       "    </tr>\n",
       "  </tbody>\n",
       "</table>\n",
       "</div>"
      ],
      "text/plain": [
       "         F1       AUC    RECALL  PRECISION\n",
       "1  0.887892  0.912974  0.818182   0.970588"
      ]
     },
     "execution_count": 50,
     "metadata": {},
     "output_type": "execute_result"
    }
   ],
   "source": [
    "trainModel(gbm, xtrain, ytrain, xtest, ytest)"
   ]
  },
  {
   "cell_type": "markdown",
   "metadata": {},
   "source": [
    "**Going by the Evaluation metric (F1), the best model is RandomForest, followed by GradientBoost**"
   ]
  },
  {
   "cell_type": "markdown",
   "metadata": {},
   "source": [
    "<hr>\n",
    "<b>Diagnostics</b>"
   ]
  },
  {
   "cell_type": "code",
   "execution_count": 51,
   "metadata": {},
   "outputs": [
    {
     "name": "stdout",
     "output_type": "stream",
     "text": [
      "              precision    recall  f1-score   support\n",
      "\n",
      "    Churn_No       0.95      0.80      0.87       713\n",
      "   Churn_Yes       0.40      0.78      0.53       121\n",
      "\n",
      "    accuracy                           0.80       834\n",
      "   macro avg       0.68      0.79      0.70       834\n",
      "weighted avg       0.87      0.80      0.82       834\n",
      "\n"
     ]
    }
   ],
   "source": [
    "printReport(logreg_pl, xtest_lin, ytest_lin)"
   ]
  },
  {
   "cell_type": "code",
   "execution_count": 52,
   "metadata": {},
   "outputs": [
    {
     "name": "stdout",
     "output_type": "stream",
     "text": [
      "              precision    recall  f1-score   support\n",
      "\n",
      "    Churn_No       0.97      1.00      0.98       713\n",
      "   Churn_Yes       0.97      0.82      0.89       121\n",
      "\n",
      "    accuracy                           0.97       834\n",
      "   macro avg       0.97      0.91      0.94       834\n",
      "weighted avg       0.97      0.97      0.97       834\n",
      "\n"
     ]
    }
   ],
   "source": [
    "printReport(rf, xtest, ytest)"
   ]
  },
  {
   "cell_type": "code",
   "execution_count": 53,
   "metadata": {},
   "outputs": [
    {
     "name": "stdout",
     "output_type": "stream",
     "text": [
      "              precision    recall  f1-score   support\n",
      "\n",
      "    Churn_No       0.97      1.00      0.98       713\n",
      "   Churn_Yes       0.97      0.82      0.89       121\n",
      "\n",
      "    accuracy                           0.97       834\n",
      "   macro avg       0.97      0.91      0.94       834\n",
      "weighted avg       0.97      0.97      0.97       834\n",
      "\n"
     ]
    }
   ],
   "source": [
    "printReport(gbm, xtest, ytest)"
   ]
  },
  {
   "cell_type": "code",
   "execution_count": 54,
   "metadata": {},
   "outputs": [
    {
     "data": {
      "image/png": "[encoded data removed]",
      "text/plain": [
       "<Figure size 720x288 with 3 Axes>"
      ]
     },
     "metadata": {
      "needs_background": "light"
     },
     "output_type": "display_data"
    }
   ],
   "source": [
    "plotFigure(logreg_pl, xtest_lin, ytest_lin, 'LogisticRegression')\n",
    "plt.title('Logistic Regression');"
   ]
  },
  {
   "cell_type": "code",
   "execution_count": 55,
   "metadata": {},
   "outputs": [
    {
     "data": {
      "image/png": "[encoded data removed]",
      "text/plain": [
       "<Figure size 720x288 with 3 Axes>"
      ]
     },
     "metadata": {
      "needs_background": "light"
     },
     "output_type": "display_data"
    }
   ],
   "source": [
    "plotFigure(rf, xtest, ytest, 'RandomForest')\n",
    "plt.title('RandomForest');"
   ]
  },
  {
   "cell_type": "code",
   "execution_count": 56,
   "metadata": {},
   "outputs": [
    {
     "data": {
      "image/png": "[encoded data removed]",
      "text/plain": [
       "<Figure size 720x288 with 3 Axes>"
      ]
     },
     "metadata": {
      "needs_background": "light"
     },
     "output_type": "display_data"
    }
   ],
   "source": [
    "plotFigure(gbm, xtest, ytest, 'GradientBoost')\n",
    "plt.title('GradientBoost');"
   ]
  },
  {
   "cell_type": "markdown",
   "metadata": {},
   "source": [
    "Logistic Regression couldbe"
   ]
  },
  {
   "cell_type": "code",
   "execution_count": 57,
   "metadata": {},
   "outputs": [
    {
     "data": {
      "image/png": "[encoded data removed]",
      "text/plain": [
       "<Figure size 576x432 with 1 Axes>"
      ]
     },
     "metadata": {
      "needs_background": "light"
     },
     "output_type": "display_data"
    }
   ],
   "source": [
    "plt.figure(figsize=(8,6))\n",
    "featureImportance(logreg_pl, xtest_lin, ytest_lin)"
   ]
  },
  {
   "cell_type": "code",
   "execution_count": 58,
   "metadata": {},
   "outputs": [
    {
     "data": {
      "image/png": "[encoded data removed]",
      "text/plain": [
       "<Figure size 864x432 with 2 Axes>"
      ]
     },
     "metadata": {
      "needs_background": "light"
     },
     "output_type": "display_data"
    }
   ],
   "source": [
    "plt.figure(figsize=(12,6))\n",
    "for i, model in enumerate([rf, gbm], start=1):\n",
    "    plt.subplot(1,2,i)\n",
    "    featureImportance(model, xtest, ytest)\n",
    "plt.tight_layout(pad=1.)"
   ]
  },
  {
   "cell_type": "code",
   "execution_count": 59,
   "metadata": {},
   "outputs": [
    {
     "data": {
      "text/plain": [
       "12137"
      ]
     },
     "execution_count": 59,
     "metadata": {},
     "output_type": "execute_result"
    }
   ],
   "source": [
    "gc.collect()"
   ]
  }
 ],
 "metadata": {
  "kernelspec": {
   "display_name": "Python 3",
   "language": "python",
   "name": "python3"
  },
  "language_info": {
   "codemirror_mode": {
    "name": "ipython",
    "version": 3
   },
   "file_extension": ".py",
   "mimetype": "text/x-python",
   "name": "python",
   "nbconvert_exporter": "python",
   "pygments_lexer": "ipython3",
   "version": "3.8.0"
  }
 },
 "nbformat": 4,
 "nbformat_minor": 4
}
